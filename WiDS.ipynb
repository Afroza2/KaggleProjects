{
  "nbformat": 4,
  "nbformat_minor": 0,
  "metadata": {
    "colab": {
      "name": "WiDS.ipynb",
      "provenance": [],
      "collapsed_sections": [],
      "private_outputs": true,
      "include_colab_link": true
    },
    "kernelspec": {
      "name": "python3",
      "display_name": "Python 3"
    },
    "language_info": {
      "name": "python"
    },
    "accelerator": "GPU"
  },
  "cells": [
    {
      "cell_type": "markdown",
      "metadata": {
        "id": "view-in-github",
        "colab_type": "text"
      },
      "source": [
        "<a href=\"https://colab.research.google.com/github/Afroza2/KaggleProjects/blob/WiDS_2022/WiDS.ipynb\" target=\"_parent\"><img src=\"https://colab.research.google.com/assets/colab-badge.svg\" alt=\"Open In Colab\"/></a>"
      ]
    },
    {
      "cell_type": "code",
      "execution_count": null,
      "metadata": {
        "id": "1DrMutqtILMT"
      },
      "outputs": [],
      "source": [
        "from google.colab import files\n",
        "files.upload()"
      ]
    },
    {
      "cell_type": "code",
      "source": [
        "import pandas as pd\n",
        "\n",
        "df = pd.read_csv(\"train.csv\")\n",
        "df.head()"
      ],
      "metadata": {
        "id": "52OMHJ0IIgJI"
      },
      "execution_count": null,
      "outputs": []
    },
    {
      "cell_type": "code",
      "source": [
        "df"
      ],
      "metadata": {
        "id": "bl-ZaZymVDv4"
      },
      "execution_count": null,
      "outputs": []
    },
    {
      "cell_type": "code",
      "source": [
        "df.describe()"
      ],
      "metadata": {
        "id": "L1ScekAPI4OK"
      },
      "execution_count": null,
      "outputs": []
    },
    {
      "cell_type": "code",
      "source": [
        "df.info()"
      ],
      "metadata": {
        "id": "-man1OlLI5p5"
      },
      "execution_count": null,
      "outputs": []
    },
    {
      "cell_type": "code",
      "source": [
        "df['State_Factor'].value_counts()"
      ],
      "metadata": {
        "id": "q4FF2DQvLOrX"
      },
      "execution_count": null,
      "outputs": []
    },
    {
      "cell_type": "code",
      "source": [
        "df['building_class'].value_counts()"
      ],
      "metadata": {
        "id": "fwPpcPtHSIsI"
      },
      "execution_count": null,
      "outputs": []
    },
    {
      "cell_type": "code",
      "source": [
        "df['facility_type'].value_counts()"
      ],
      "metadata": {
        "id": "MtTBZ-DZLZn3"
      },
      "execution_count": null,
      "outputs": []
    },
    {
      "cell_type": "code",
      "source": [
        "import seaborn as sns\n",
        "sns.set(rc={'figure.figsize':(11.7,8.27)})\n",
        "sns.kdeplot(data=df, x=\"floor_area\", hue=\"building_class\")\n"
      ],
      "metadata": {
        "id": "zfCad0IaL6E0"
      },
      "execution_count": null,
      "outputs": []
    },
    {
      "cell_type": "code",
      "source": [
        "ax = sns.boxplot(x=\"floor_area\", y=\"building_class\", data=df)\n"
      ],
      "metadata": {
        "id": "ddAjDczPMr4y"
      },
      "execution_count": null,
      "outputs": []
    },
    {
      "cell_type": "code",
      "source": [
        "sns.kdeplot(data=df, x=\"floor_area\", hue=\"building_class\")\n"
      ],
      "metadata": {
        "id": "_0mjsOfhPIcZ"
      },
      "execution_count": null,
      "outputs": []
    },
    {
      "cell_type": "code",
      "source": [
        "ax = sns.boxplot(x=\"energy_star_rating\", y=\"facility_type\", data=df)"
      ],
      "metadata": {
        "id": "YmxqDbaSUFAT"
      },
      "execution_count": null,
      "outputs": []
    },
    {
      "cell_type": "code",
      "source": [
        "ax = sns.boxplot(x=\"floor_area\", y=\"facility_type\", data=df)"
      ],
      "metadata": {
        "id": "wNDtdPDcO_l0"
      },
      "execution_count": null,
      "outputs": []
    },
    {
      "cell_type": "code",
      "source": [
        "import numpy as np\n",
        "\n",
        "Q1 = np.percentile(df[df['building_class']=='Commercial']['floor_area'], 25)\n",
        "Q3 = np.percentile(df[df['building_class']=='Commercial']['floor_area'], 75)\n",
        "IQR = Q3 - Q1\n",
        "\n",
        "print(Q1)\n",
        "print(Q3)\n",
        "\n",
        "low = Q1 - 1.5 * IQR\n",
        "up = Q3 + 1.5 * IQR\n",
        "\n",
        "print(low)\n",
        "print(up)\n",
        "\n",
        "outlier =[]\n",
        "for x in df[df['building_class']=='Commercial']['floor_area']:\n",
        "   if ((x> up) or (x<low)):\n",
        "       outlier.append(x)\n",
        "print('outlier in the dataset is', outlier)\n",
        "print(len(outlier))"
      ],
      "metadata": {
        "id": "XiRrDWVONDxS"
      },
      "execution_count": null,
      "outputs": []
    },
    {
      "cell_type": "code",
      "source": [
        "import numpy as np\n",
        "\n",
        "Q1 = np.percentile(df[df['building_class']=='Residential']['floor_area'], 25)\n",
        "Q3 = np.percentile(df[df['building_class']=='Residential']['floor_area'], 75)\n",
        "IQR = Q3 - Q1\n",
        "\n",
        "print(Q1)\n",
        "print(Q3)\n",
        "\n",
        "low = Q1 - 1.5 * IQR\n",
        "up = Q3 + 1.5 * IQR\n",
        "\n",
        "print(low)\n",
        "print(up)\n",
        "\n",
        "outlier =[]\n",
        "for x in df[df['building_class']=='Residential']['floor_area']:\n",
        "   if ((x> up) or (x<low)):\n",
        "       outlier.append(x)\n",
        "print('outlier in the dataset is', outlier)\n",
        "print(len(outlier))"
      ],
      "metadata": {
        "id": "5rTDfVKXObHp"
      },
      "execution_count": null,
      "outputs": []
    },
    {
      "cell_type": "code",
      "source": [
        "df[df['building_class']=='Residential']['floor_area'].median()"
      ],
      "metadata": {
        "id": "zdSXOHIBPer8"
      },
      "execution_count": null,
      "outputs": []
    },
    {
      "cell_type": "code",
      "source": [
        "df[df['building_class']=='Commercial']['floor_area'].median()"
      ],
      "metadata": {
        "id": "oN5FoL4qPhsZ"
      },
      "execution_count": null,
      "outputs": []
    },
    {
      "cell_type": "code",
      "source": [
        "corr = df.corr()\n",
        "corr"
      ],
      "metadata": {
        "id": "U3IwJISiPvqg"
      },
      "execution_count": null,
      "outputs": []
    },
    {
      "cell_type": "code",
      "source": [
        "import matplotlib.pyplot as plt\n",
        "#Using Pearson Correlation\n",
        "plt.figure(figsize=(50,100))\n",
        "sns.heatmap(corr, annot=True, cmap=plt.cm.CMRmap_r)\n",
        "plt.show()"
      ],
      "metadata": {
        "id": "PMAKfTRGP-3N"
      },
      "execution_count": null,
      "outputs": []
    },
    {
      "cell_type": "code",
      "source": [
        "sns.set(rc={'figure.figsize':(11.7,8.27)})\n",
        "sns.lineplot(data=df, y='direction_max_wind_speed', x='days_with_fog')"
      ],
      "metadata": {
        "id": "o6zZSKYJQ8d5"
      },
      "execution_count": null,
      "outputs": []
    },
    {
      "cell_type": "code",
      "source": [
        "sns.kdeplot(data=df, x='direction_max_wind_speed', hue='State_Factor')"
      ],
      "metadata": {
        "id": "nVteftmwST9k"
      },
      "execution_count": null,
      "outputs": []
    },
    {
      "cell_type": "code",
      "source": [
        "import matplotlib.pyplot as plt\n",
        "\n",
        "sns.set(rc={'figure.figsize':(20,5)})\n",
        "fig, axes = plt.subplots(1,2)\n",
        "\n",
        "sns.kdeplot(data = df[df['building_class']=='Commercial'],x='direction_max_wind_speed', hue='State_Factor', ax=axes[0])\n",
        "sns.kdeplot(data = df[df['building_class']=='Residential'],x='direction_max_wind_speed', hue='State_Factor', ax=axes[1])\n"
      ],
      "metadata": {
        "id": "51QFD0GMS3xF"
      },
      "execution_count": null,
      "outputs": []
    },
    {
      "cell_type": "code",
      "source": [
        "sns.kdeplot(data=df, x='days_with_fog', hue='State_Factor')"
      ],
      "metadata": {
        "id": "A2jSsGuCTd0m"
      },
      "execution_count": null,
      "outputs": []
    },
    {
      "cell_type": "code",
      "source": [
        "sns.kdeplot(data=df, x='direction_max_wind_speed', hue='State_Factor')"
      ],
      "metadata": {
        "id": "29aYw-UhV71p"
      },
      "execution_count": null,
      "outputs": []
    },
    {
      "cell_type": "code",
      "source": [
        "df['direction_max_wind_speed'].value_counts()"
      ],
      "metadata": {
        "id": "WvOQthOHWig9"
      },
      "execution_count": null,
      "outputs": []
    },
    {
      "cell_type": "code",
      "source": [
        "pd.set_option('display.max_rows', 500)\n",
        "df"
      ],
      "metadata": {
        "id": "5l1aR7cVYBDi"
      },
      "execution_count": null,
      "outputs": []
    },
    {
      "cell_type": "code",
      "source": [
        "sns.set(rc={'figure.figsize':(11.7,8.27)})\n",
        "sns.lineplot(data=df, y='energy_star_rating', x='days_with_fog', hue='State_Factor')"
      ],
      "metadata": {
        "id": "cAgvkTH0YBBI"
      },
      "execution_count": null,
      "outputs": []
    },
    {
      "cell_type": "code",
      "source": [
        "# df['days_with_fog'].fillna(0)"
      ],
      "metadata": {
        "id": "bLhdU72fYqyX"
      },
      "execution_count": null,
      "outputs": []
    },
    {
      "cell_type": "code",
      "source": [
        "# df[['days_with_fog']] = df[['days_with_fog']].fillna(value=0)\n"
      ],
      "metadata": {
        "id": "jnFHrNgAY5ZN"
      },
      "execution_count": null,
      "outputs": []
    },
    {
      "cell_type": "code",
      "source": [
        "df.info()"
      ],
      "metadata": {
        "id": "rArg52HpaBIO"
      },
      "execution_count": null,
      "outputs": []
    },
    {
      "cell_type": "code",
      "source": [
        "df"
      ],
      "metadata": {
        "id": "j3yE0OmMZ9gV"
      },
      "execution_count": null,
      "outputs": []
    },
    {
      "cell_type": "code",
      "source": [
        "sns.lineplot(data=df, y='energy_star_rating', x='days_with_fog')"
      ],
      "metadata": {
        "id": "vl0x-cSIZ7f9"
      },
      "execution_count": null,
      "outputs": []
    },
    {
      "cell_type": "code",
      "source": [
        "sns.kdeplot(data=df, x='days_with_fog')"
      ],
      "metadata": {
        "id": "ctM4ozkIaOuW"
      },
      "execution_count": null,
      "outputs": []
    },
    {
      "cell_type": "code",
      "source": [
        "df['days_with_fog'].mean()"
      ],
      "metadata": {
        "id": "bEMwmOT-atsC"
      },
      "execution_count": null,
      "outputs": []
    },
    {
      "cell_type": "code",
      "source": [
        "df[df['days_with_fog'] != 0]['days_with_fog'].median()"
      ],
      "metadata": {
        "id": "zFDSYfwca4QV"
      },
      "execution_count": null,
      "outputs": []
    },
    {
      "cell_type": "code",
      "source": [
        "df[(df['days_with_fog'] != 0) & (df['State_Factor'] == 'State_1')]['days_with_fog']"
      ],
      "metadata": {
        "id": "KdEtmIADbc2m"
      },
      "execution_count": null,
      "outputs": []
    },
    {
      "cell_type": "code",
      "source": [
        "sns.lineplot(data=df[(df['days_with_fog'] != 0) & (df['State_Factor'] == 'State_1')], y='energy_star_rating', x='days_with_fog')"
      ],
      "metadata": {
        "id": "nU3BmJwub5Pl"
      },
      "execution_count": null,
      "outputs": []
    },
    {
      "cell_type": "code",
      "source": [
        "sns.kdeplot(data=df[(df['days_with_fog'] != 0) & (df['State_Factor'] == 'State_4')], x='days_with_fog')"
      ],
      "metadata": {
        "id": "qs9rKzuocH6C"
      },
      "execution_count": null,
      "outputs": []
    },
    {
      "cell_type": "code",
      "source": [
        "df[(df['State_Factor'] == 'State_4') & (df['days_with_fog'] != 0)]['days_with_fog'].value_counts()"
      ],
      "metadata": {
        "id": "Vr-E3wsKc8UW"
      },
      "execution_count": null,
      "outputs": []
    },
    {
      "cell_type": "code",
      "source": [
        "df['State_Factor'].value_counts()"
      ],
      "metadata": {
        "id": "FnaOuLyNfFWH"
      },
      "execution_count": null,
      "outputs": []
    },
    {
      "cell_type": "markdown",
      "source": [
        "State_6     50840\n",
        "State_11     6412\n",
        "State_1      5618\n",
        "State_2      4871\n",
        "State_4      4300\n",
        "State_8      3701\n",
        "State_10       15"
      ],
      "metadata": {
        "id": "Myjrg9cTgCK7"
      }
    },
    {
      "cell_type": "code",
      "source": [
        "s1median = df[(df['State_Factor'] == 'State_1') & (pd.isnull(df['days_with_fog']) == False)]['days_with_fog'].median()\n",
        "s2median = df[(df['State_Factor'] == 'State_2') & (pd.isnull(df['days_with_fog']) == False)]['days_with_fog'].median()\n",
        "s3median = df[(df['State_Factor'] == 'State_4') & (pd.isnull(df['days_with_fog']) == False)]['days_with_fog'].median()\n",
        "s4median = df[(df['State_Factor'] == 'State_6') & (pd.isnull(df['days_with_fog']) == False)]['days_with_fog'].median()\n",
        "s5median = df[(df['State_Factor'] == 'State_8') & (pd.isnull(df['days_with_fog']) == False)]['days_with_fog'].median()\n",
        "s6median = df[(df['State_Factor'] == 'State_10') & (pd.isnull(df['days_with_fog']) == False)]['days_with_fog'].median()\n",
        "s7median = df[(df['State_Factor'] == 'State_11') & (pd.isnull(df['days_with_fog']) == False)]['days_with_fog'].median()\n"
      ],
      "metadata": {
        "id": "cPlvvWn0euHB"
      },
      "execution_count": null,
      "outputs": []
    },
    {
      "cell_type": "code",
      "source": [
        "s1median"
      ],
      "metadata": {
        "id": "jYRR940PgkHe"
      },
      "execution_count": null,
      "outputs": []
    },
    {
      "cell_type": "code",
      "source": [
        "s2median"
      ],
      "metadata": {
        "id": "nf_TLACbgmTx"
      },
      "execution_count": null,
      "outputs": []
    },
    {
      "cell_type": "code",
      "source": [
        "s3median"
      ],
      "metadata": {
        "id": "dHqaQHx7go1K"
      },
      "execution_count": null,
      "outputs": []
    },
    {
      "cell_type": "code",
      "source": [
        "s4median"
      ],
      "metadata": {
        "id": "DfeySi-dgqhy"
      },
      "execution_count": null,
      "outputs": []
    },
    {
      "cell_type": "code",
      "source": [
        "s5median"
      ],
      "metadata": {
        "id": "lWsa3u2tgtO3"
      },
      "execution_count": null,
      "outputs": []
    },
    {
      "cell_type": "code",
      "source": [
        "s6median"
      ],
      "metadata": {
        "id": "b4VITj_ngu9n"
      },
      "execution_count": null,
      "outputs": []
    },
    {
      "cell_type": "code",
      "source": [
        "df['days_with_fog'].median()"
      ],
      "metadata": {
        "id": "_GqFBKBog_BT"
      },
      "execution_count": null,
      "outputs": []
    },
    {
      "cell_type": "code",
      "source": [
        "state_1_fog = df[df['State_Factor'] == 'State_1']['days_with_fog']\n",
        "\n",
        "df.to_excel('state1_fog.xlsx')"
      ],
      "metadata": {
        "id": "2FjHWuqJhVy9"
      },
      "execution_count": null,
      "outputs": []
    },
    {
      "cell_type": "code",
      "source": [
        "df[df['State_Factor'] == 'State_2']['days_with_fog'].value_counts()\n"
      ],
      "metadata": {
        "id": "T7STsCIpibZd"
      },
      "execution_count": null,
      "outputs": []
    },
    {
      "cell_type": "code",
      "source": [
        "sns.set(rc={'figure.figsize':(11.7,8.27)})\n",
        "sns.lineplot(data=df, y='avg_temp', x='days_with_fog')"
      ],
      "metadata": {
        "id": "7MpmuM7opjKg"
      },
      "execution_count": null,
      "outputs": []
    },
    {
      "cell_type": "code",
      "source": [
        "df[df['State_Factor'] == 'State_1']['days_with_fog'].value_counts().sum()"
      ],
      "metadata": {
        "id": "ZrMtyPvms44-"
      },
      "execution_count": null,
      "outputs": []
    },
    {
      "cell_type": "code",
      "source": [
        "df[df['State_Factor'] == 'State_1']['days_with_fog'].isna().sum()"
      ],
      "metadata": {
        "id": "l8fOn9Buso6v"
      },
      "execution_count": null,
      "outputs": []
    },
    {
      "cell_type": "code",
      "source": [
        "df[df['State_Factor'] == 'State_2']['days_with_fog'].value_counts().sum()"
      ],
      "metadata": {
        "id": "QpqNhNBntDok"
      },
      "execution_count": null,
      "outputs": []
    },
    {
      "cell_type": "code",
      "source": [
        "df[df['State_Factor'] == 'State_2']['days_with_fog'].isna().sum()"
      ],
      "metadata": {
        "id": "Jus4kN_4saZg"
      },
      "execution_count": null,
      "outputs": []
    },
    {
      "cell_type": "code",
      "source": [
        "df[df['State_Factor'] == 'State_3']['days_with_fog'].value_counts().sum()"
      ],
      "metadata": {
        "id": "nXWJDrq9tGIJ"
      },
      "execution_count": null,
      "outputs": []
    },
    {
      "cell_type": "code",
      "source": [
        "df[df['State_Factor'] == 'State_3']['days_with_fog'].isna().sum()"
      ],
      "metadata": {
        "id": "4ERHF1Y_sqtq"
      },
      "execution_count": null,
      "outputs": []
    },
    {
      "cell_type": "code",
      "source": [
        "df[df['State_Factor'] == 'State_4']['days_with_fog'].value_counts().sum()"
      ],
      "metadata": {
        "id": "OrXlOJyctKTW"
      },
      "execution_count": null,
      "outputs": []
    },
    {
      "cell_type": "code",
      "source": [
        "df[df['State_Factor'] == 'State_4']['days_with_fog'].isna().sum()"
      ],
      "metadata": {
        "id": "iGKNzofLssgq"
      },
      "execution_count": null,
      "outputs": []
    },
    {
      "cell_type": "code",
      "source": [
        "df[df['State_Factor'] == 'State_6']['days_with_fog'].value_counts().sum()"
      ],
      "metadata": {
        "id": "v51r31yItMlB"
      },
      "execution_count": null,
      "outputs": []
    },
    {
      "cell_type": "code",
      "source": [
        "df[df['State_Factor'] == 'State_6']['days_with_fog'].isna().sum()"
      ],
      "metadata": {
        "id": "6PBseiG2suPs"
      },
      "execution_count": null,
      "outputs": []
    },
    {
      "cell_type": "code",
      "source": [
        "df[df['State_Factor'] == 'State_8']['days_with_fog'].value_counts().sum()"
      ],
      "metadata": {
        "id": "x1tVPQVrtPfv"
      },
      "execution_count": null,
      "outputs": []
    },
    {
      "cell_type": "code",
      "source": [
        "df[df['State_Factor'] == 'State_8']['days_with_fog'].isna().sum()"
      ],
      "metadata": {
        "id": "TZr_qHpQsxbM"
      },
      "execution_count": null,
      "outputs": []
    },
    {
      "cell_type": "code",
      "source": [
        "df[df['State_Factor'] == 'State_10']['days_with_fog'].value_counts().sum()"
      ],
      "metadata": {
        "id": "w4EZEFiktUZM"
      },
      "execution_count": null,
      "outputs": []
    },
    {
      "cell_type": "code",
      "source": [
        "df[df['State_Factor'] == 'State_10']['days_with_fog'].isna().sum()"
      ],
      "metadata": {
        "id": "JLTk3fBKszj0"
      },
      "execution_count": null,
      "outputs": []
    },
    {
      "cell_type": "code",
      "source": [
        "df[df['State_Factor'] == 'State_11']['days_with_fog'].value_counts().sum()"
      ],
      "metadata": {
        "id": "5q3Qx2RttWNl"
      },
      "execution_count": null,
      "outputs": []
    },
    {
      "cell_type": "code",
      "source": [
        "df[df['State_Factor'] == 'State_11']['days_with_fog'].isna().sum()"
      ],
      "metadata": {
        "id": "A84LkcWos1d7"
      },
      "execution_count": null,
      "outputs": []
    },
    {
      "cell_type": "code",
      "source": [
        "df[(df['State_Factor']=='State_1') & (pd.isnull(df['days_with_fog']))]"
      ],
      "metadata": {
        "id": "da2ylVTUc_oz"
      },
      "execution_count": null,
      "outputs": []
    },
    {
      "cell_type": "code",
      "source": [
        "df[(df['State_Factor']=='State_2') & pd.isnull(df['days_with_fog'])]"
      ],
      "metadata": {
        "id": "57o-8jRuhwHL"
      },
      "execution_count": null,
      "outputs": []
    },
    {
      "cell_type": "code",
      "source": [
        "df[(df['State_Factor']=='State_4') & pd.isnull(df['days_with_fog'])]"
      ],
      "metadata": {
        "id": "ngJyyn7Ph5YS"
      },
      "execution_count": null,
      "outputs": []
    },
    {
      "cell_type": "code",
      "source": [
        "df[(df['State_Factor']=='State_6') & pd.isnull(df['days_with_fog'])]"
      ],
      "metadata": {
        "id": "22zpATLiiyuH"
      },
      "execution_count": null,
      "outputs": []
    },
    {
      "cell_type": "code",
      "source": [
        "df[(df['State_Factor']=='State_8') & pd.isnull(df['days_with_fog'])]"
      ],
      "metadata": {
        "id": "coXttpk9i2FP"
      },
      "execution_count": null,
      "outputs": []
    },
    {
      "cell_type": "code",
      "source": [
        "df[(df['State_Factor']=='State_10') & pd.isnull(df['days_with_fog'])]"
      ],
      "metadata": {
        "id": "x1ATC5Rwi4qe"
      },
      "execution_count": null,
      "outputs": []
    },
    {
      "cell_type": "code",
      "source": [
        "df[(df['State_Factor']=='State_11') & pd.isnull(df['days_with_fog'])]"
      ],
      "metadata": {
        "id": "8GqroXhxi8Vb"
      },
      "execution_count": null,
      "outputs": []
    },
    {
      "cell_type": "code",
      "source": [
        "# indexlist_state1 = df[(df['State_Factor']=='State_1') & pd.isnull(df['days_with_fog'])].index\n",
        "# indexlist_state1"
      ],
      "metadata": {
        "id": "I6eBb3FBjJmi"
      },
      "execution_count": null,
      "outputs": []
    },
    {
      "cell_type": "code",
      "source": [
        "# for index_na in indexlist_state1:\n",
        "#   df.iloc[index_na, df.columns.get_loc('days_with_fog')] = s1median"
      ],
      "metadata": {
        "id": "bA7ZyGY-joVw"
      },
      "execution_count": null,
      "outputs": []
    },
    {
      "cell_type": "code",
      "source": [
        "# indexlist_state2 = df[(df['State_Factor']=='State_2') & pd.isnull(df['days_with_fog'])].index\n",
        "# indexlist_state2"
      ],
      "metadata": {
        "id": "6UEGz7V_ETgJ"
      },
      "execution_count": null,
      "outputs": []
    },
    {
      "cell_type": "code",
      "source": [
        "# for index_na2 in indexlist_state2:\n",
        "#   df.iloc[index_na2, df.columns.get_loc('days_with_fog')] = s2median"
      ],
      "metadata": {
        "id": "fqhUAAILETzw"
      },
      "execution_count": null,
      "outputs": []
    },
    {
      "cell_type": "code",
      "source": [
        "# indexlist_state4 = df[(df['State_Factor']=='State_4') & pd.isnull(df['days_with_fog'])].index\n",
        "# indexlist_state4\n",
        "\n",
        "# for index_na4 in indexlist_state4:\n",
        "#   df.iloc[index_na4, df.columns.get_loc('days_with_fog')] = s3median"
      ],
      "metadata": {
        "id": "uGHafpsQgEwu"
      },
      "execution_count": null,
      "outputs": []
    },
    {
      "cell_type": "code",
      "source": [
        "# indexlist_state6 = df[(df['State_Factor']=='State_6') & pd.isnull(df['days_with_fog'])].index\n",
        "\n",
        "# for index_na6 in indexlist_state6:\n",
        "#   df.iloc[index_na6, df.columns.get_loc('days_with_fog')] = s4median"
      ],
      "metadata": {
        "id": "oZBZUS53ET3S"
      },
      "execution_count": null,
      "outputs": []
    },
    {
      "cell_type": "code",
      "source": [
        "# indexlist_state6 = df[(df['State_Factor']=='State_8') & pd.isnull(df['days_with_fog'])].index\n",
        "\n",
        "# for index_na6 in indexlist_state6:\n",
        "#   df.iloc[index_na6, df.columns.get_loc('days_with_fog')] = s5median"
      ],
      "metadata": {
        "id": "oCe8VSPxET6o"
      },
      "execution_count": null,
      "outputs": []
    },
    {
      "cell_type": "code",
      "source": [
        "# indexlist_state10 = df[(df['State_Factor']=='State_10') & pd.isnull(df['days_with_fog'])].index\n",
        "\n",
        "# for index_na10 in indexlist_state10:\n",
        "#   df.iloc[index_na10, df.columns.get_loc('days_with_fog')] = s6median"
      ],
      "metadata": {
        "id": "lcfHFYUMET9g"
      },
      "execution_count": null,
      "outputs": []
    },
    {
      "cell_type": "code",
      "source": [
        "# indexlist_state11 = df[(df['State_Factor']=='State_11') & pd.isnull(df['days_with_fog'])].index\n",
        "\n",
        "# for index_na11 in indexlist_state11:\n",
        "#   df.iloc[index_na11, df.columns.get_loc('days_with_fog')] = s7median"
      ],
      "metadata": {
        "id": "2_GAtpEpEUAL"
      },
      "execution_count": null,
      "outputs": []
    },
    {
      "cell_type": "code",
      "source": [
        ""
      ],
      "metadata": {
        "id": "r0xfV1ZDEUDt"
      },
      "execution_count": null,
      "outputs": []
    },
    {
      "cell_type": "code",
      "source": [
        "df.info()"
      ],
      "metadata": {
        "id": "SM2d-Z8SkVcM"
      },
      "execution_count": null,
      "outputs": []
    },
    {
      "cell_type": "code",
      "source": [
        "df[(df['building_class']=='Residential') & (df['facility_type'])]"
      ],
      "metadata": {
        "id": "UgOuJb25U7VW"
      },
      "execution_count": null,
      "outputs": []
    },
    {
      "cell_type": "code",
      "source": [
        "df['floor_area'].describe()"
      ],
      "metadata": {
        "id": "5Z62abb3VnL_"
      },
      "execution_count": null,
      "outputs": []
    },
    {
      "cell_type": "code",
      "source": [
        "df[['energy_star_rating']] = df[['energy_star_rating']].fillna(value=0)"
      ],
      "metadata": {
        "id": "1sJk1ZwgemvI"
      },
      "execution_count": null,
      "outputs": []
    },
    {
      "cell_type": "code",
      "source": [
        "df.info()"
      ],
      "metadata": {
        "id": "2JS0WnMMeuOg"
      },
      "execution_count": null,
      "outputs": []
    },
    {
      "cell_type": "code",
      "source": [
        "import matplotlib.pyplot as plt\n",
        "\n",
        "sns.set(rc={'figure.figsize':(20,5)})\n",
        "fig, axes = plt.subplots(1,2)\n",
        "\n",
        "sns.kdeplot(data = df,x='energy_star_rating', hue='building_class', ax=axes[0])\n"
      ],
      "metadata": {
        "id": "OdQa00Yte9dO"
      },
      "execution_count": null,
      "outputs": []
    },
    {
      "cell_type": "code",
      "source": [
        "df['facility_type'].value_counts()"
      ],
      "metadata": {
        "id": "Mx5qrJPRL3fM"
      },
      "execution_count": null,
      "outputs": []
    },
    {
      "cell_type": "code",
      "source": [
        "\n",
        "pd.set_option('display.max_rows', 100)\n",
        "df[['facility_type','floor_area','energy_star_rating','ELEVATION','State_Factor']]\n"
      ],
      "metadata": {
        "id": "uYC-jtLeMy58"
      },
      "execution_count": null,
      "outputs": []
    },
    {
      "cell_type": "code",
      "source": [
        "sns.lineplot(data=df, y='energy_star_rating', x='facility_type')"
      ],
      "metadata": {
        "id": "JqeyKydIKADy"
      },
      "execution_count": null,
      "outputs": []
    },
    {
      "cell_type": "code",
      "source": [
        "df[['State_Factor','ELEVATION','max_wind_speed']]"
      ],
      "metadata": {
        "id": "Tw4VsjmSWK_1"
      },
      "execution_count": null,
      "outputs": []
    },
    {
      "cell_type": "code",
      "source": [
        "# df.to_csv('output.csv', sep='\\t')"
      ],
      "metadata": {
        "id": "SxPNCyKHZIaM"
      },
      "execution_count": null,
      "outputs": []
    },
    {
      "cell_type": "code",
      "source": [
        "df.loc[df['State_Factor']=='State_2', ['State_Factor','energy_star_rating','ELEVATION','max_wind_speed']]"
      ],
      "metadata": {
        "id": "xgXtc1YJs2QG"
      },
      "execution_count": null,
      "outputs": []
    },
    {
      "cell_type": "code",
      "source": [
        "df.loc[df['State_Factor']=='State_10', ['State_Factor','energy_star_rating','ELEVATION','max_wind_speed']]"
      ],
      "metadata": {
        "id": "J-BKVG9dlFxV"
      },
      "execution_count": null,
      "outputs": []
    },
    {
      "cell_type": "code",
      "source": [
        "df.loc[df['State_Factor']=='State_4', ['State_Factor','energy_star_rating','ELEVATION','max_wind_speed']]"
      ],
      "metadata": {
        "id": "Lrx9oHPSvN9U"
      },
      "execution_count": null,
      "outputs": []
    },
    {
      "cell_type": "code",
      "source": [
        "sns.lineplot(data=df[(df['max_wind_speed'] != 0) & (df['State_Factor'] == 'State_1')], y='ELEVATION', x='max_wind_speed')"
      ],
      "metadata": {
        "id": "xvR8uRGZlkBy"
      },
      "execution_count": null,
      "outputs": []
    },
    {
      "cell_type": "code",
      "source": [
        "sns.lineplot(data=df[(df['max_wind_speed'] != 0) & (df['State_Factor'] == 'State_2')], y='ELEVATION', x='max_wind_speed')"
      ],
      "metadata": {
        "id": "su-pZis-psKA"
      },
      "execution_count": null,
      "outputs": []
    },
    {
      "cell_type": "code",
      "source": [
        "sns.lineplot(data=df[(df['max_wind_speed'] != 0) & (df['State_Factor'] == 'State_4')], y='ELEVATION', x='max_wind_speed')\n",
        "\n",
        "# elevation is constant for any value of max wind speed 202.5"
      ],
      "metadata": {
        "id": "LhvE2gP7p2lX"
      },
      "execution_count": null,
      "outputs": []
    },
    {
      "cell_type": "code",
      "source": [
        "sns.lineplot(data=df[(df['max_wind_speed'] != 0) & (df['State_Factor'] == 'State_6')], y='ELEVATION', x='max_wind_speed')"
      ],
      "metadata": {
        "id": "13oVZ8L4qQ--"
      },
      "execution_count": null,
      "outputs": []
    },
    {
      "cell_type": "code",
      "source": [
        "sns.lineplot(data=df[(df['max_wind_speed'] != 0) & (df['State_Factor'] == 'State_8')], y='ELEVATION', x='max_wind_speed')"
      ],
      "metadata": {
        "id": "8AGq79RtqXQ4"
      },
      "execution_count": null,
      "outputs": []
    },
    {
      "cell_type": "code",
      "source": [
        "sns.lineplot(data=df[(df['max_wind_speed'] != 0) & (df['State_Factor'] == 'State_10')], y='ELEVATION', x='max_wind_speed')\n",
        "\n",
        "#constant 3.00"
      ],
      "metadata": {
        "id": "oERqeVp9qbfG"
      },
      "execution_count": null,
      "outputs": []
    },
    {
      "cell_type": "code",
      "source": [
        "sns.lineplot(data=df[(df['max_wind_speed'] != 0) & (df['State_Factor'] == 'State_11')], y='ELEVATION', x='max_wind_speed')"
      ],
      "metadata": {
        "id": "h8ic6D_UqeJf"
      },
      "execution_count": null,
      "outputs": []
    },
    {
      "cell_type": "code",
      "source": [
        "s4elevation = 202.5\n",
        "\n",
        "s10elevation = 3.00\n",
        "\n"
      ],
      "metadata": {
        "id": "qFvCpSbHtGyz"
      },
      "execution_count": null,
      "outputs": []
    },
    {
      "cell_type": "code",
      "source": [
        "import matplotlib.pyplot as plt\n",
        "\n",
        "sns.set(rc={'figure.figsize':(20,5)})\n",
        "fig, axes = plt.subplots(1,2)\n",
        "\n",
        "sns.kdeplot(data = df[df['building_class']=='Commercial'],x='energy_star_rating', hue='State_Factor', ax=axes[0])\n",
        "sns.kdeplot(data = df[df['building_class']=='Residential'],x='energy_star_rating', hue='State_Factor', ax=axes[1])\n"
      ],
      "metadata": {
        "id": "2XmYAA8CpXzO"
      },
      "execution_count": null,
      "outputs": []
    },
    {
      "cell_type": "code",
      "source": [
        "sns.lineplot(data=df, y='energy_star_rating', x='max_wind_speed')"
      ],
      "metadata": {
        "id": "tUsdCb2F7z2z"
      },
      "execution_count": null,
      "outputs": []
    },
    {
      "cell_type": "code",
      "source": [
        "sns.lineplot(data=df[(df['building_class'] == 'Commercial') & (df['State_Factor'] == 'State_6')], y='energy_star_rating', x='facility_type')\n",
        "\n"
      ],
      "metadata": {
        "id": "WrfAwD_RE5oJ"
      },
      "execution_count": null,
      "outputs": []
    },
    {
      "cell_type": "code",
      "source": [
        "a110=df[df['State_Factor'] == 'State_1']['max_wind_speed'].isna().sum()\n",
        "a111=df[df['State_Factor'] == 'State_1']['max_wind_speed'].value_counts().sum()\n",
        "array1=np.array([a110,a111])\n",
        "array1"
      ],
      "metadata": {
        "id": "CPGle5DmHDJW"
      },
      "execution_count": null,
      "outputs": []
    },
    {
      "cell_type": "code",
      "source": [
        "a210=df[df['State_Factor'] == 'State_2']['max_wind_speed'].isna().sum()\n",
        "a211=df[df['State_Factor'] == 'State_2']['max_wind_speed'].value_counts().sum()\n",
        "array2=np.array([a210,a211])\n",
        "array2"
      ],
      "metadata": {
        "id": "1YZhKMSZHMDV"
      },
      "execution_count": null,
      "outputs": []
    },
    {
      "cell_type": "code",
      "source": [
        "a410=df[df['State_Factor'] == 'State_4']['max_wind_speed'].isna().sum()\n",
        "a411=df[df['State_Factor'] == 'State_4']['max_wind_speed'].value_counts().sum()\n",
        "array4=np.array([a410,a411])\n",
        "array4"
      ],
      "metadata": {
        "id": "650LVjbBHPK1"
      },
      "execution_count": null,
      "outputs": []
    },
    {
      "cell_type": "code",
      "source": [
        "a610=df[df['State_Factor'] == 'State_6']['max_wind_speed'].isna().sum()\n",
        "a611=df[df['State_Factor'] == 'State_6']['max_wind_speed'].value_counts().sum()\n",
        "array6=np.array([a610,a611])\n",
        "array6"
      ],
      "metadata": {
        "id": "btBrG2vNJv22"
      },
      "execution_count": null,
      "outputs": []
    },
    {
      "cell_type": "code",
      "source": [
        "a810=df[df['State_Factor'] == 'State_8']['max_wind_speed'].isna().sum()\n",
        "a811=df[df['State_Factor'] == 'State_8']['max_wind_speed'].value_counts().sum()\n",
        "array8=np.array([a810,a811])\n",
        "array8"
      ],
      "metadata": {
        "id": "4ZLR8_tHKDGO"
      },
      "execution_count": null,
      "outputs": []
    },
    {
      "cell_type": "code",
      "source": [
        "a1010=df[df['State_Factor'] == 'State_10']['max_wind_speed'].isna().sum()\n",
        "a1011=df[df['State_Factor'] == 'State_10']['max_wind_speed'].value_counts().sum()\n",
        "array10=np.array([a1010,a1011])\n",
        "array10"
      ],
      "metadata": {
        "id": "oGlhjPhPKMTX"
      },
      "execution_count": null,
      "outputs": []
    },
    {
      "cell_type": "code",
      "source": [
        "a1110=df[df['State_Factor'] == 'State_11']['max_wind_speed'].isna().sum()\n",
        "a1111=df[df['State_Factor'] == 'State_11']['max_wind_speed'].value_counts().sum()\n",
        "array11=np.array([a1110,a1111])\n",
        "array11"
      ],
      "metadata": {
        "id": "5HNygEkNKYIv"
      },
      "execution_count": null,
      "outputs": []
    },
    {
      "cell_type": "code",
      "source": [
        "df.isna().sum()"
      ],
      "metadata": {
        "id": "LY_L8YEyQRmm"
      },
      "execution_count": null,
      "outputs": []
    },
    {
      "cell_type": "code",
      "source": [
        "\n",
        "from sklearn.preprocessing import OrdinalEncoder\n",
        "# knn imputation transform for the horse colic dataset\n",
        "from sklearn.impute import KNNImputer\n",
        "imputer = KNNImputer(n_neighbors=2, weights='uniform', metric='nan_euclidean')\n",
        "\n",
        "# define imputer\n",
        "encoder = OrdinalEncoder()\n",
        "\n",
        "# data = df.values\n",
        "\n",
        "# data\n",
        "\n",
        "null_cols = ['State_Factor','building_class','facility_type','year_built','direction_max_wind_speed','direction_peak_wind_speed','max_wind_speed','days_with_fog']\n",
        "\n",
        "def encode(data):\n",
        "    '''function to encode non-null data and replace it in the original data'''\n",
        "    #retains only non-null values\n",
        "    nonulls = np.array(data.dropna())\n",
        "    #reshapes the data for encoding\n",
        "    impute_reshape = nonulls.reshape(-1,1)\n",
        "    #encode date\n",
        "    impute_ordinal = encoder.fit_transform(impute_reshape)\n",
        "    #Assign back encoded values to non-null values\n",
        "    data.loc[data.notnull()] = np.squeeze(impute_ordinal)\n",
        "    return data\n",
        "\n",
        "#create a for loop to iterate through each column in the data\n",
        "for columns in null_cols:\n",
        "    encode(df[columns])\n",
        "\n"
      ],
      "metadata": {
        "id": "0iLRUE9HQ7jP"
      },
      "execution_count": null,
      "outputs": []
    },
    {
      "cell_type": "code",
      "source": [
        "df"
      ],
      "metadata": {
        "id": "RokBAkyfwTSy"
      },
      "execution_count": null,
      "outputs": []
    },
    {
      "cell_type": "code",
      "source": [
        "encode_data = pd.DataFrame(np.round(imputer.fit_transform(df)),columns = df.columns)"
      ],
      "metadata": {
        "id": "OK1lQWiywmQc"
      },
      "execution_count": null,
      "outputs": []
    },
    {
      "cell_type": "code",
      "source": [
        "encode_data"
      ],
      "metadata": {
        "id": "F01j0q8y5-JI"
      },
      "execution_count": null,
      "outputs": []
    },
    {
      "cell_type": "code",
      "source": [
        "encode_data.info()"
      ],
      "metadata": {
        "id": "FeIfq-eYASMm"
      },
      "execution_count": null,
      "outputs": []
    }
  ]
}